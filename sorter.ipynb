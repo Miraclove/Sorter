{
 "cells": [
  {
   "cell_type": "code",
   "execution_count": 27,
   "metadata": {},
   "outputs": [
    {
     "name": "stdout",
     "output_type": "stream",
     "text": [
      "Moving to folder: G:\\Camera\\XT30\\test\\2022.02\n"
     ]
    },
    {
     "name": "stderr",
     "output_type": "stream",
     "text": [
      "100%|██████████| 1/1 [00:00<00:00, 14.88it/s]\n"
     ]
    },
    {
     "name": "stdout",
     "output_type": "stream",
     "text": [
      "Moving to folder: G:\\Camera\\XT30\\test\\2022.03\n"
     ]
    },
    {
     "name": "stderr",
     "output_type": "stream",
     "text": [
      "100%|██████████| 185/185 [00:16<00:00, 11.48it/s]\n"
     ]
    },
    {
     "name": "stdout",
     "output_type": "stream",
     "text": [
      "Moving to folder: G:\\Camera\\XT30\\test\\2022.04\n"
     ]
    },
    {
     "name": "stderr",
     "output_type": "stream",
     "text": [
      "100%|██████████| 365/365 [00:27<00:00, 13.30it/s]\n"
     ]
    },
    {
     "name": "stdout",
     "output_type": "stream",
     "text": [
      "Moving to folder: G:\\Camera\\XT30\\test\\2022.05\n"
     ]
    },
    {
     "name": "stderr",
     "output_type": "stream",
     "text": [
      "100%|██████████| 613/613 [00:56<00:00, 10.91it/s]\n"
     ]
    },
    {
     "name": "stdout",
     "output_type": "stream",
     "text": [
      "Moving to folder: G:\\Camera\\XT30\\test\\2022.06\n"
     ]
    },
    {
     "name": "stderr",
     "output_type": "stream",
     "text": [
      "100%|██████████| 463/463 [00:34<00:00, 13.49it/s]\n"
     ]
    }
   ],
   "source": [
    "import os\n",
    "import pandas as pd\n",
    "import time\n",
    "from datetime import datetime\n",
    "import numpy as np\n",
    "import shutil\n",
    "from tqdm import tqdm\n",
    "\n",
    "def get_file_list(directory_path):\n",
    "    file_list = os.listdir(directory_path)\n",
    "    file_full_path = []\n",
    "    file_modify_list = []\n",
    "    data_type_list = []\n",
    "    month_list = []\n",
    "    for element in file_list:\n",
    "        file_path = os.path.join(directory_path, element)\n",
    "        file_full_path.append(file_path)\n",
    "        file_modify_time = os.path.getmtime(file_path)\n",
    "        file_date = datetime.fromtimestamp(file_modify_time)\n",
    "        local_time = file_date.strftime('%Y-%m-%d %H:%M:%S')\n",
    "        file_modify_list.append(local_time)\n",
    "        filename, file_extension = os.path.splitext(file_path)\n",
    "        data_type_list.append(file_extension)\n",
    "        month_list.append(file_date.year+(file_date.month/100))\n",
    "    data = {'path':file_full_path,'m_time':file_modify_list,'type':data_type_list,'month':month_list,'file_name':file_list}\n",
    "    data = pd.DataFrame(data=data)\n",
    "    return data\n",
    "\n",
    "\n",
    "def create_folder(folder_path):\n",
    "    if not os.path.exists(folder_path):\n",
    "        os.makedirs(folder_path)\n",
    "\n",
    "def move_file(source,destination):\n",
    "    shutil.copy(source, destination)\n",
    "\n",
    "def sort_by_month(data,target_folder):\n",
    "    uni_month = np.unique(data['month'])\n",
    "    for item in uni_month:\n",
    "        # create month folder\n",
    "        folder_path = os.path.join(target_folder,str(item))\n",
    "        create_folder(folder_path)\n",
    "        temp = data[data.month == item]\n",
    "        index_list = temp.index.values.tolist()\n",
    "        print('Copying to folder:',folder_path)\n",
    "        for index in tqdm(range(len(temp))):\n",
    "            file_name = temp['file_name'][index_list[index]]\n",
    "            source_file_path = temp['path'][index_list[index]]\n",
    "            move_file(source_file_path,os.path.join(folder_path,file_name))\n",
    "\n",
    "\n",
    "directory_path = 'F:\\\\DCIM\\\\113_FUJI'\n",
    "target_folder = 'G:\\\\Camera\\\\XT30\\\\test'\n",
    "data = get_file_list(directory_path)\n",
    "sort_by_month(data,target_folder)\n",
    "\n",
    "\n",
    "    \n",
    "\n"
   ]
  }
 ],
 "metadata": {
  "kernelspec": {
   "display_name": "Python 3.9.12 ('base')",
   "language": "python",
   "name": "python3"
  },
  "language_info": {
   "codemirror_mode": {
    "name": "ipython",
    "version": 3
   },
   "file_extension": ".py",
   "mimetype": "text/x-python",
   "name": "python",
   "nbconvert_exporter": "python",
   "pygments_lexer": "ipython3",
   "version": "3.9.12"
  },
  "orig_nbformat": 4,
  "vscode": {
   "interpreter": {
    "hash": "6f5583cf1d9466b5c27e75c89cc6b383bed5736d6b16c51c8074d8690011a952"
   }
  }
 },
 "nbformat": 4,
 "nbformat_minor": 2
}
